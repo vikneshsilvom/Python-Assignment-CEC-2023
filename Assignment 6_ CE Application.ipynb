{
 "cells": [
  {
   "cell_type": "markdown",
   "id": "7094470f",
   "metadata": {},
   "source": [
    "# Consider the flow of water through a pipe and determine if the flow is laminar or turbulent based on the Reynolds number.\n",
    "\n",
    "# The Reynolds number (Re) for flow in a pipe is given by :\n",
    "\n",
    "# Re=(ρ.v.D)/μ\t\n",
    "\n",
    "\n",
    "\n",
    "\n",
    "\n",
    "\n",
    " \n",
    " \n",
    "\n"
   ]
  },
  {
   "cell_type": "code",
   "execution_count": 2,
   "id": "441ccbfc",
   "metadata": {},
   "outputs": [
    {
     "name": "stdout",
     "output_type": "stream",
     "text": [
      "Enter the density of the fluid (kg/m³): 10\n",
      "Enter the velocity of the fluid (m/s): 20\n",
      "Enter the diameter of the pipe (m): 30\n",
      "Enter the dynamic viscosity of the fluid (Pa·s or kg/(m·s)): 0.4\n",
      "Reynolds number for the given flow: 15000.00\n",
      "Flow regime: Turbulent flow\n"
     ]
    }
   ],
   "source": [
    "def calculate_reynolds_number(density, velocity, diameter, viscosity):\n",
    "    return (density * velocity * diameter) / viscosity\n",
    "\n",
    "def determine_flow_regime(reynolds_number):\n",
    "    if reynolds_number < 2000:\n",
    "        return \"Laminar flow\"\n",
    "    else:\n",
    "        return \"Turbulent flow\"\n",
    "\n",
    "# Get user inputs\n",
    "density = float(input(\"Enter the density of the fluid (kg/m³): \"))\n",
    "velocity = float(input(\"Enter the velocity of the fluid (m/s): \"))\n",
    "diameter = float(input(\"Enter the diameter of the pipe (m): \"))\n",
    "viscosity = float(input(\"Enter the dynamic viscosity of the fluid (Pa·s or kg/(m·s)): \"))\n",
    "\n",
    "# Calculate Reynolds number\n",
    "reynolds_number = calculate_reynolds_number(density, velocity, diameter, viscosity)\n",
    "\n",
    "# Determine flow regime\n",
    "flow_regime = determine_flow_regime(reynolds_number)\n",
    "\n",
    "# Output the results\n",
    "print(f\"Reynolds number for the given flow: {reynolds_number:.2f}\")\n",
    "print(f\"Flow regime: {flow_regime}\")\n"
   ]
  },
  {
   "cell_type": "code",
   "execution_count": null,
   "id": "3eaa7315",
   "metadata": {},
   "outputs": [],
   "source": []
  }
 ],
 "metadata": {
  "kernelspec": {
   "display_name": "Python 3 (ipykernel)",
   "language": "python",
   "name": "python3"
  },
  "language_info": {
   "codemirror_mode": {
    "name": "ipython",
    "version": 3
   },
   "file_extension": ".py",
   "mimetype": "text/x-python",
   "name": "python",
   "nbconvert_exporter": "python",
   "pygments_lexer": "ipython3",
   "version": "3.11.5"
  }
 },
 "nbformat": 4,
 "nbformat_minor": 5
}

{
 "cells": [
  {
   "cell_type": "code",
   "execution_count": 5,
   "id": "844df97c",
   "metadata": {},
   "outputs": [
    {
     "name": "stdout",
     "output_type": "stream",
     "text": [
      "Enter the name of a state: Johor\n",
      "Population of Johor: 3794000\n"
     ]
    }
   ],
   "source": [
    "import requests\n",
    "\n",
    "api_url = \"https://jian.sh/malaysia-api/state/v1/all.json\"\n",
    "response = requests.get(api_url)\n",
    "malaysia_state_data = response.json()\n",
    "\n",
    "def state_population(state_name):\n",
    "    for item in malaysia_st\n",
    "    ate_data:\n",
    "        if item['state'] == state_name:  # Fix: Change 'state' to 'state_name'\n",
    "            return item['population']\n",
    "    return None\n",
    "    \n",
    "state = input(\"Enter the name of a state: \")\n",
    "population = state_population(state)\n",
    "\n",
    "if population is not None:\n",
    "    print(\"Population of \" + state + \": \" + str(population))\n",
    "else:\n",
    "    print(state + \" is not found in the data\")\n"
   ]
  }
 ],
 "metadata": {
  "kernelspec": {
   "display_name": "Python 3 (ipykernel)",
   "language": "python",
   "name": "python3"
  },
  "language_info": {
   "codemirror_mode": {
    "name": "ipython",
    "version": 3
   },
   "file_extension": ".py",
   "mimetype": "text/x-python",
   "name": "python",
   "nbconvert_exporter": "python",
   "pygments_lexer": "ipython3",
   "version": "3.11.5"
  }
 },
 "nbformat": 4,
 "nbformat_minor": 5
}

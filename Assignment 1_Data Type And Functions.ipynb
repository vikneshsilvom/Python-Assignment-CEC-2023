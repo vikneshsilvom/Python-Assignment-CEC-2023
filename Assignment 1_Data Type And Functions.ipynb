{
 "cells": [
  {
   "cell_type": "code",
   "execution_count": 1,
   "id": "92edb43d",
   "metadata": {},
   "outputs": [
    {
     "name": "stdout",
     "output_type": "stream",
     "text": [
      "30\n",
      "10\n",
      "200\n",
      "2.0\n"
     ]
    }
   ],
   "source": [
    "def sum(a,b):\n",
    "  # a function that adds two parameters\n",
    "  return a+b\n",
    "\n",
    "def sub(a,b):\n",
    "  # a function that subtracts two parameters\n",
    "  return a-b\n",
    "\n",
    "def mult(a,b):\n",
    "  # a function that multiplies two parameters\n",
    "  return a*b\n",
    "\n",
    "def divi(a,b):\n",
    "  # a function that divides two parameters\n",
    "  return a/b\n",
    "\n",
    "print(sum(20,10))\n",
    "print(sub(20,10))\n",
    "print(mult(20,10))\n",
    "print(divi(20,10))"
   ]
  },
  {
   "cell_type": "code",
   "execution_count": 2,
   "id": "9b63a4de",
   "metadata": {},
   "outputs": [
    {
     "name": "stdout",
     "output_type": "stream",
     "text": [
      "Enter the name of a subject: Software\n",
      "The subject is available.\n"
     ]
    }
   ],
   "source": [
    "subjects = [\"Software\", \"Chemistry\", \"English\", \"Arabic\"]\n",
    "\n",
    "def check_subject_availability(user_input):\n",
    "    def is_subject_available(subject):\n",
    "        return subject in subjects\n",
    "\n",
    "    if is_subject_available(user_input):\n",
    "        return \"The subject is available.\"\n",
    "    else:\n",
    "        return \"The subject is not available.\"\n",
    "\n",
    "user_subject = input(\"Enter the name of a subject: \")\n",
    "\n",
    "result_message = check_subject_availability(user_subject)\n",
    "print(result_message)\n"
   ]
  }
 ],
 "metadata": {
  "kernelspec": {
   "display_name": "Python 3 (ipykernel)",
   "language": "python",
   "name": "python3"
  },
  "language_info": {
   "codemirror_mode": {
    "name": "ipython",
    "version": 3
   },
   "file_extension": ".py",
   "mimetype": "text/x-python",
   "name": "python",
   "nbconvert_exporter": "python",
   "pygments_lexer": "ipython3",
   "version": "3.11.5"
  }
 },
 "nbformat": 4,
 "nbformat_minor": 5
}
